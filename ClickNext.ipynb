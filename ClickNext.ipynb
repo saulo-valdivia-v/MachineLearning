{
 "cells": [
  {
   "cell_type": "code",
   "execution_count": 19,
   "metadata": {},
   "outputs": [],
   "source": [
    "from selenium import webdriver\n",
    "from selenium.webdriver.common.by import By\n",
    "from selenium.webdriver.support.ui import WebDriverWait\n",
    "from selenium.webdriver.support import expected_conditions as EC\n",
    "import time\n",
    "\n",
    "#url = \"https://www.amazon.com/DualSense-Wireless-Controller-PlayStation-5/product-reviews/B08FC6C75Y/ref=cm_cr_dp_d_show_all_btm?ie=UTF8&reviewerType=all_reviews\"\n",
    "url = \"https://www.amazon.com/25inch-Remover-Cleaner-Kitchen-Bathroom/product-reviews/B08RHNP936/ref=cm_cr_arp_d_paging_btm_next_2?ie=UTF8&reviewerType=all_reviews&pageNumber=2\"\n",
    "\n",
    "def criticas_movie (url):\n",
    "    driver = webdriver.Chrome(executable_path=\"C:/Users/saule/Documents/DataScience/EAE/Cursos/BigDataArchitecture/chromedriver_win32/chromedriver.exe\")\n",
    "    driver.get(url)\n",
    "    \n",
    "    #element1 = driver.find_element(filter, 'value')\n",
    "    #driver.find_element_by_link_text('Next page').click()\n",
    "    \n",
    "    #link = div.find_elements(By.CSS_SELECTOR, \"a:first-child\")\n",
    "    #link = div.find_elements(By.CSS_SELECTOR, \"a:last-child\")\n",
    "    \n",
    "    try:\n",
    "    \n",
    "    #WebDriverWait(driver, 100).until(EC.presence_of_element_located((By.XPATH, '//*[@id=\"cm_cr-pagination_bar\"]/ul/li[2]/a'))\n",
    "        i = 0\n",
    "    \n",
    "    #while i < 3:\n",
    "        while driver.find_element(By.XPATH, '//*[@id=\"cm_cr-pagination_bar\"]/ul/li[2]/a'):\n",
    "            #div = driver.find_element(By.CSS_SELECTOR, \"div[id='cm_cr-pagination_bar']\")\n",
    "            #link = div.find_elements(By.CSS_SELECTOR, \"a:last-child\")\n",
    "            #link[0].click()\n",
    "            link = driver.find_element(By.XPATH, '//*[@id=\"cm_cr-pagination_bar\"]/ul/li[2]/a')\n",
    "            link.click()\n",
    "\n",
    "            time.sleep(10)\n",
    "            i += 1\n",
    "    \n",
    "    except:\n",
    "          print(\"Finished\")\n",
    "    \n",
    "    #if div.find_elements(By.CSS_SELECTOR, \"a:last-child\"):\n",
    "    #    driver.implicitly_wait(100)\n",
    "    #    link = div.find_elements(By.CSS_SELECTOR, \"a:last-child\")\n",
    "    #    link[0].click()\n",
    "    \n",
    "    #link[0].click()\n",
    "    #raw = driver.find_elements(By.CLASS_NAME, \"z-movie\")\n",
    "    #raw = driver.find_elements(By.CSS_SELECTOR, \"div[itemtype='http://schema.org/Movie']\")\n",
    "    #raw = driver.find_element(By.CSS_SELECTOR, \"div[id='cm_cr-review_list']\")\n",
    "    #reviews = raw.find_elements(By.CSS_SELECTOR, \"div[data-hook='review']\")\n",
    "    #raw = driver.find_element(By.CSS_SELECTOR, \"div[itemtype='http://schema.org/Movie']\")\n",
    "#\n",
    "    #title =raw.find_element(By.CSS_SELECTOR, \"h1[id='main-title']\")\n",
    "#\n",
    "    #criticas = raw.find_elements(By.CSS_SELECTOR, \"div[id='cm_cr-review_list']\")\n",
    "#\n",
    "    #print(\"Titulo:\", title.text,\"\\n\")\n",
    "    #print(\"# de criticas:\",len(criticas))\n",
    "    #for criti in criticas:\n",
    "    #    body = criti.find_element(By.CSS_SELECTOR, \"div[itemprop='reviewBody']\")\n",
    "    #    autor = criti.find_element(By.CSS_SELECTOR, \"div[itemprop='author']\")\n",
    "    #    try:\n",
    "    #        link = criti.find_element(By.TAG_NAME,\"a\").get_attribute(\"href\")\n",
    "    #    except:\n",
    "    #        pass\n",
    "#\n",
    "    #    score = criti.find_element(By.CLASS_NAME,'fa-circle').get_attribute(\"title\")\n",
    "#\n",
    "    #    print(\"\\n Critica:\")\n",
    "    #    print(body.text)\n",
    "    #    print(\"Autor: \", autor.text)\n",
    "    #    try:\n",
    "    #        print(\"Link: \", link)\n",
    "    #    except:\n",
    "    #        pass\n",
    "    #    print(\"Tendencia de la critica:\", score)\n",
    "    #    print(\"-----\")\n",
    "    \n",
    "    #driver.close()\n",
    "    #return link#,reviews"
   ]
  },
  {
   "cell_type": "code",
   "execution_count": 20,
   "metadata": {},
   "outputs": [
    {
     "name": "stdout",
     "output_type": "stream",
     "text": [
      "Finished\n"
     ]
    }
   ],
   "source": [
    "criticas_movie(url)"
   ]
  }
 ],
 "metadata": {
  "kernelspec": {
   "display_name": "Python 3",
   "language": "python",
   "name": "python3"
  },
  "language_info": {
   "codemirror_mode": {
    "name": "ipython",
    "version": 3
   },
   "file_extension": ".py",
   "mimetype": "text/x-python",
   "name": "python",
   "nbconvert_exporter": "python",
   "pygments_lexer": "ipython3",
   "version": "3.9.1"
  }
 },
 "nbformat": 4,
 "nbformat_minor": 4
}
